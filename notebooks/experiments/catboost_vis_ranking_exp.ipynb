{
 "cells": [
  {
   "cell_type": "code",
   "execution_count": 1,
   "metadata": {},
   "outputs": [
    {
     "name": "stderr",
     "output_type": "stream",
     "text": [
      "2023-03-29 20:59:59.414177: I tensorflow/core/platform/cpu_feature_guard.cc:193] This TensorFlow binary is optimized with oneAPI Deep Neural Network Library (oneDNN) to use the following CPU instructions in performance-critical operations:  AVX2 FMA\n",
      "To enable them in other operations, rebuild TensorFlow with the appropriate compiler flags.\n"
     ]
    }
   ],
   "source": [
    "import sys\n",
    "sys.path.extend(['/Users/j4yzer/PycharmProjects/VKR'])\n",
    "from utils.ml_data_provider import SectoralDataProvider\n",
    "\n",
    "import catboost\n",
    "from catboost import CatBoostRanker, Pool, MetricVisualizer\n",
    "from copy import deepcopy\n",
    "import numpy as np\n",
    "import os\n",
    "import numpy as np\n",
    "import pandas as pd\n",
    "import tensorflow as tf\n",
    "%reload_ext tensorboard"
   ]
  },
  {
   "cell_type": "code",
   "execution_count": 2,
   "metadata": {},
   "outputs": [],
   "source": [
    "data_provider = SectoralDataProvider(cache_path='/Users/j4yzer/PycharmProjects/VKR/data/sectoral_ml')\n",
    "data : pd.DataFrame = data_provider.load_data()\n",
    "data['date'] = pd.to_datetime(data['date'], format='%Y-%m-%d', utc=False)\n",
    "\n",
    "data = data.replace([-np.Inf, np.Inf], np.nan)\n",
    "data = data.dropna()\n",
    "data_by_sector = {sector: sector_data for sector, sector_data in data.groupby('sector')}\n",
    "for sector, sector_data in data_by_sector.items():\n",
    "    sector_data = sector_data.groupby(\"date\").filter(lambda x: len(x) > 30)\n",
    "    sector_data = sector_data[sector_data.groupby('ticker')['date'].transform('nunique') == sector_data['date'].nunique()]\n",
    "    sector_data['nextPeriodRelativeToSectoralIndexReturn'] =  sector_data.groupby(\"date\")[\"nextPeriodRelativeToSectoralIndexReturn\"].rank(\"dense\", ascending=True).astype(int)\n",
    "    sector_data.rename(columns={'nextPeriodRelativeToSectoralIndexReturn': 'nextPeriodRank'}, inplace=True)\n",
    "    sector_data['relativeToSectoralIndexReturn'] = sector_data.groupby('date')['relativeToSectoralIndexReturn'].rank('dense', ascending=True).astype(int)\n",
    "    sector_data.rename(columns={'relativeToSectoralIndexReturn':'rank'}, inplace=True)\n",
    "    data_by_sector[sector] = sector_data\n",
    "energy_data = data_by_sector['Energy']\n",
    "\n",
    "energy_data['nextPeriodRank'] = energy_data['nextPeriodRank'] / energy_data['nextPeriodRank'].max()\n",
    "energy_data['rank'] = energy_data['rank'] / energy_data['rank'].max()\n",
    "energy_data : pd.DataFrame = energy_data\n",
    "energy_data['qid'] = energy_data['date'].astype('int64')"
   ]
  },
  {
   "cell_type": "code",
   "execution_count": 3,
   "metadata": {},
   "outputs": [],
   "source": [
    "time_config = {'train': '2000-01-01', 'valid': '2014-01-01', 'test': '2018-01-01'}\n",
    "train_energy_data = energy_data[\n",
    "    (energy_data['date'] > time_config['train']) & (energy_data['date'] <= time_config['valid'])]\n",
    "test_energy_data = energy_data[\n",
    "    (energy_data['date'] > time_config['valid']) & (energy_data['date'] <= time_config['test'])]\n",
    "\n",
    "y_train = train_energy_data[['nextPeriodRank']]\n",
    "X_train = train_energy_data[train_energy_data.drop(columns=['ticker', 'sector',\n",
    "                                                            'closePrice',\n",
    "                                                            'sectoralIndex', 'nextPeriodRank', 'date', 'qid']).columns]\n",
    "queries_train = train_energy_data[['qid']]\n",
    "\n",
    "y_test = test_energy_data[['nextPeriodRank']]\n",
    "X_test = test_energy_data[test_energy_data.drop(columns=['ticker', 'sector',\n",
    "                                                         'closePrice',\n",
    "                                                         'sectoralIndex', 'nextPeriodRank', 'date', 'qid']).columns]\n",
    "queries_test = test_energy_data[['qid']]"
   ]
  },
  {
   "cell_type": "code",
   "execution_count": 42,
   "metadata": {},
   "outputs": [],
   "source": [
    "from tuning.random_ranker import RandomRanker\n",
    "\n",
    "train = Pool(\n",
    "    data=X_train,\n",
    "    label=y_train,\n",
    "    group_id=queries_train\n",
    ")\n",
    "\n",
    "test = Pool(\n",
    "    data=X_test,\n",
    "    label=y_test,\n",
    "    group_id=queries_test\n",
    ")\n",
    "default_parameters = {\n",
    "    'iterations': 200,\n",
    "    'custom_metric': ['NDCG', 'PFound', 'PrecisionAt:top=4'],\n",
    "    'verbose': False,\n",
    "    'random_seed': 0\n",
    "}\n",
    "\n",
    "parameters = {}\n",
    "def fit_model(loss_function, additional_params=None, train_pool=train, test_pool=test):\n",
    "    parameters = deepcopy(default_parameters)\n",
    "    parameters['loss_function'] = loss_function\n",
    "    parameters['train_dir'] = loss_function\n",
    "\n",
    "    if additional_params is not None:\n",
    "        parameters.update(additional_params)\n",
    "\n",
    "    model = loss_function == 'random' if RandomRanker(**parameters) else CatBoostRanker(**parameters)\n",
    "    model.fit(train_pool, eval_set=test_pool, plot=True)\n",
    "\n",
    "    return model"
   ]
  },
  {
   "cell_type": "markdown",
   "metadata": {},
   "source": [
    "# Try different models"
   ]
  },
  {
   "cell_type": "code",
   "execution_count": 44,
   "metadata": {},
   "outputs": [
    {
     "data": {
      "text/plain": "Launching TensorBoard..."
     },
     "metadata": {},
     "output_type": "display_data"
    },
    {
     "data": {
      "text/plain": "<IPython.core.display.HTML object>",
      "text/html": "\n      <iframe id=\"tensorboard-frame-ebc332f8c08768c\" width=\"100%\" height=\"800\" frameborder=\"0\">\n      </iframe>\n      <script>\n        (function() {\n          const frame = document.getElementById(\"tensorboard-frame-ebc332f8c08768c\");\n          const url = new URL(\"/\", window.location);\n          const port = 6008;\n          if (port) {\n            url.port = port;\n          }\n          frame.src = url;\n        })();\n      </script>\n    "
     },
     "metadata": {},
     "output_type": "display_data"
    },
    {
     "data": {
      "text/plain": "MetricVisualizer(layout=Layout(align_self='stretch', height='500px'))",
      "application/vnd.jupyter.widget-view+json": {
       "version_major": 2,
       "version_minor": 0,
       "model_id": "74c3a99a0372402d9379c6cd4daab6db"
      }
     },
     "metadata": {},
     "output_type": "display_data"
    },
    {
     "data": {
      "text/plain": "{'learn': {'MAP:top=10': 0.7403645256552234,\n  'RecallAt:top=10': 0.35527162423016834,\n  'PrecisionAt:top=4': 0.8837209302325582},\n 'validation': {'NDCG:type=Base': 0.8601270067181017,\n  'PFound': 0.9361848685703075,\n  'MAP:top=10': 0.44460069444444444,\n  'RecallAt:top=10': 0.25271739130434784,\n  'PrecisionAt:top=4': 0.625}}"
     },
     "execution_count": 44,
     "metadata": {},
     "output_type": "execute_result"
    }
   ],
   "source": [
    "%tensorboard --logdir logs\n",
    "model_str = fit_model('YetiRankPairwise', {'custom_metric': ['NDCG', 'PrecisionAt:top=4', 'RecallAt:top=10', 'MAP:top=10'], 'train_dir': 'logs'})\n",
    "model_str.get_best_score()"
   ]
  },
  {
   "cell_type": "code",
   "execution_count": 17,
   "metadata": {},
   "outputs": [
    {
     "data": {
      "text/plain": "Launching TensorBoard..."
     },
     "metadata": {},
     "output_type": "display_data"
    },
    {
     "data": {
      "text/plain": "<IPython.core.display.HTML object>",
      "text/html": "\n      <iframe id=\"tensorboard-frame-fe8bcea73a8cf1b0\" width=\"100%\" height=\"800\" frameborder=\"0\">\n      </iframe>\n      <script>\n        (function() {\n          const frame = document.getElementById(\"tensorboard-frame-fe8bcea73a8cf1b0\");\n          const url = new URL(\"/\", window.location);\n          const port = 6006;\n          if (port) {\n            url.port = port;\n          }\n          frame.src = url;\n        })();\n      </script>\n    "
     },
     "metadata": {},
     "output_type": "display_data"
    }
   ],
   "source": [
    "\n"
   ]
  }
 ],
 "metadata": {
  "kernelspec": {
   "name": "python3",
   "language": "python",
   "display_name": "Python 3 (ipykernel)"
  },
  "language_info": {
   "codemirror_mode": {
    "name": "ipython",
    "version": 3
   },
   "file_extension": ".py",
   "mimetype": "text/x-python",
   "name": "python",
   "nbconvert_exporter": "python",
   "pygments_lexer": "ipython3",
   "version": "3.10.9"
  }
 },
 "nbformat": 4,
 "nbformat_minor": 1
}
