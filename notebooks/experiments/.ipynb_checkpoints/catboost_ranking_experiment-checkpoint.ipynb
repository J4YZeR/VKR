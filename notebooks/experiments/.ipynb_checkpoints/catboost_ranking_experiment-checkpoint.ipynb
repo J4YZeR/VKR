{
 "cells": [
  {
   "cell_type": "code",
   "execution_count": 2,
   "metadata": {
    "collapsed": true
   },
   "outputs": [
    {
     "name": "stderr",
     "output_type": "stream",
     "text": [
      "2023-04-01 12:39:55.676002: I tensorflow/core/platform/cpu_feature_guard.cc:193] This TensorFlow binary is optimized with oneAPI Deep Neural Network Library (oneDNN) to use the following CPU instructions in performance-critical operations:  AVX2 FMA\n",
      "To enable them in other operations, rebuild TensorFlow with the appropriate compiler flags.\n"
     ]
    },
    {
     "name": "stdout",
     "output_type": "stream",
     "text": [
      "The tensorboard extension is already loaded. To reload it, use:\n",
      "  %reload_ext tensorboard\n"
     ]
    }
   ],
   "source": [
    "import sys\n",
    "\n",
    "import scipy.stats.distributions\n",
    "from sklearn.model_selection import KFold\n",
    "\n",
    "sys.path.extend(['/Users/j4yzer/PycharmProjects/VKR'])\n",
    "from utils.ml_data_provider import SectoralDataProvider\n",
    "\n",
    "from catboost import CatBoostRanker, Pool, MetricVisualizer, cv\n",
    "from copy import deepcopy\n",
    "import numpy as np\n",
    "import os\n",
    "import numpy as np\n",
    "import pandas as pd\n",
    "import tensorflow as tf\n",
    "%load_ext tensorboard"
   ]
  },
  {
   "cell_type": "markdown",
   "metadata": {},
   "source": [
    "# Catboost ranking demo"
   ]
  },
  {
   "cell_type": "code",
   "execution_count": 3,
   "metadata": {},
   "outputs": [
    {
     "data": {
      "text/plain": [
       "dict_items([(2.0, 1326), (0.0, 5481), (1.0, 3000), (3.0, 142), (4.0, 51)])"
      ]
     },
     "execution_count": 3,
     "metadata": {},
     "output_type": "execute_result"
    }
   ],
   "source": [
    "from catboost.datasets import msrank_10k\n",
    "\n",
    "train_df, test_df = msrank_10k()\n",
    "\n",
    "X_train = train_df.drop([0, 1], axis=1).values\n",
    "y_train = train_df[0].values\n",
    "queries_train = train_df[1].values\n",
    "X_test = test_df.drop([0, 1], axis=1).values\n",
    "y_test = test_df[0].values\n",
    "queries_test = test_df[1].values\n",
    "from collections import Counter\n",
    "\n",
    "Counter(y_train).items()\n"
   ]
  },
  {
   "cell_type": "code",
   "execution_count": 4,
   "metadata": {},
   "outputs": [],
   "source": [
    "from tuning.random_ranker import ShuffleRanker\n",
    "\n",
    "train = Pool(\n",
    "    data=X_train,\n",
    "    label=y_train,\n",
    "    group_id=queries_train\n",
    ")\n",
    "\n",
    "test = Pool(\n",
    "    data=X_test,\n",
    "    label=y_test,\n",
    "    group_id=queries_test\n",
    ")\n",
    "default_parameters = {\n",
    "    'iterations': 100,\n",
    "    'custom_metric': ['NDCG', 'PFound', 'AverageGain:top=10'],\n",
    "    'verbose': False,\n",
    "    'random_seed': 0\n",
    "}\n",
    "\n",
    "parameters = {}\n",
    "\n",
    "\n",
    "#\n",
    "# def fit_model_random(test_pool):\n",
    "#     eval_preds()\n",
    "\n",
    "def fit_model(loss_function, additional_params=None, train_pool=train, test_pool=test):\n",
    "    parameters = deepcopy(default_parameters)\n",
    "    parameters['loss_function'] = loss_function\n",
    "    parameters['train_dir'] = loss_function\n",
    "\n",
    "    if additional_params is not None:\n",
    "        parameters.update(additional_params)\n",
    "\n",
    "    model = ShuffleRanker(**parameters) if loss_function == 'ShuffleRanker' else CatBoostRanker(**parameters)\n",
    "    model.fit(train_pool, eval_set=test_pool, plot=True)\n",
    "\n",
    "    return model"
   ]
  },
  {
   "cell_type": "code",
   "execution_count": 4,
   "metadata": {},
   "outputs": [
    {
     "ename": "NameError",
     "evalue": "name 'ShuffleRanker' is not defined",
     "output_type": "error",
     "traceback": [
      "\u001b[0;31m---------------------------------------------------------------------------\u001b[0m",
      "\u001b[0;31mNameError\u001b[0m                                 Traceback (most recent call last)",
      "Cell \u001b[0;32mIn[4], line 1\u001b[0m\n\u001b[0;32m----> 1\u001b[0m model \u001b[38;5;241m=\u001b[39m \u001b[43mfit_model\u001b[49m\u001b[43m(\u001b[49m\u001b[38;5;124;43m'\u001b[39;49m\u001b[38;5;124;43mYetiRankPairwise\u001b[39;49m\u001b[38;5;124;43m'\u001b[39;49m\u001b[43m,\u001b[49m\n\u001b[1;32m      2\u001b[0m \u001b[43m                  \u001b[49m\u001b[43m{\u001b[49m\u001b[38;5;124;43m'\u001b[39;49m\u001b[38;5;124;43mcustom_metric\u001b[39;49m\u001b[38;5;124;43m'\u001b[39;49m\u001b[43m:\u001b[49m\u001b[43m \u001b[49m\u001b[43m[\u001b[49m\u001b[38;5;124;43m'\u001b[39;49m\u001b[38;5;124;43mNDCG\u001b[39;49m\u001b[38;5;124;43m'\u001b[39;49m\u001b[43m,\u001b[49m\u001b[43m \u001b[49m\u001b[38;5;124;43m'\u001b[39;49m\u001b[38;5;124;43mPrecisionAt:top=10\u001b[39;49m\u001b[38;5;124;43m'\u001b[39;49m\u001b[43m,\u001b[49m\u001b[43m \u001b[49m\u001b[38;5;124;43m'\u001b[39;49m\u001b[38;5;124;43mRecallAt:top=10\u001b[39;49m\u001b[38;5;124;43m'\u001b[39;49m\u001b[43m,\u001b[49m\u001b[43m \u001b[49m\u001b[38;5;124;43m'\u001b[39;49m\u001b[38;5;124;43mMAP:top=10\u001b[39;49m\u001b[38;5;124;43m'\u001b[39;49m\u001b[43m]\u001b[49m\u001b[43m}\u001b[49m\u001b[43m)\u001b[49m\n",
      "Cell \u001b[0;32mIn[3], line 34\u001b[0m, in \u001b[0;36mfit_model\u001b[0;34m(loss_function, additional_params, train_pool, test_pool)\u001b[0m\n\u001b[1;32m     31\u001b[0m \u001b[38;5;28;01mif\u001b[39;00m additional_params \u001b[38;5;129;01mis\u001b[39;00m \u001b[38;5;129;01mnot\u001b[39;00m \u001b[38;5;28;01mNone\u001b[39;00m:\n\u001b[1;32m     32\u001b[0m     parameters\u001b[38;5;241m.\u001b[39mupdate(additional_params)\n\u001b[0;32m---> 34\u001b[0m model \u001b[38;5;241m=\u001b[39m loss_function \u001b[38;5;241m==\u001b[39m \u001b[38;5;124m'\u001b[39m\u001b[38;5;124mShuffleRanker\u001b[39m\u001b[38;5;124m'\u001b[39m \u001b[38;5;28;01mif\u001b[39;00m \u001b[43mShuffleRanker\u001b[49m(\u001b[38;5;241m*\u001b[39m\u001b[38;5;241m*\u001b[39mparameters) \u001b[38;5;28;01melse\u001b[39;00m CatBoostRanker(\u001b[38;5;241m*\u001b[39m\u001b[38;5;241m*\u001b[39mparameters)\n\u001b[1;32m     35\u001b[0m model\u001b[38;5;241m.\u001b[39mfit(train_pool, eval_set\u001b[38;5;241m=\u001b[39mtest_pool, plot\u001b[38;5;241m=\u001b[39m\u001b[38;5;28;01mTrue\u001b[39;00m)\n\u001b[1;32m     37\u001b[0m \u001b[38;5;28;01mreturn\u001b[39;00m model\n",
      "\u001b[0;31mNameError\u001b[0m: name 'ShuffleRanker' is not defined"
     ]
    }
   ],
   "source": [
    "\n",
    "model = fit_model('YetiRankPairwise',\n",
    "                  {'custom_metric': ['NDCG', 'PrecisionAt:top=10', 'RecallAt:top=10', 'MAP:top=10']})"
   ]
  },
  {
   "cell_type": "code",
   "execution_count": 7,
   "metadata": {},
   "outputs": [
    {
     "data": {
      "text/plain": [
       "{'learn': {'MAP:top=10': 0.6608609540027165,\n",
       "  'RecallAt:top=10': 0.24682198030021862,\n",
       "  'PrecisionAt:top=10': 0.7333333333333328},\n",
       " 'validation': {'NDCG:type=Base': 0.7385560357695262,\n",
       "  'MAP:top=10': 0.521907693001443,\n",
       "  'RecallAt:top=10': 0.20162018653804817,\n",
       "  'PrecisionAt:top=10': 0.6352272727272724}}"
      ]
     },
     "execution_count": 7,
     "metadata": {},
     "output_type": "execute_result"
    }
   ],
   "source": [
    "model.best_score"
   ]
  },
  {
   "cell_type": "markdown",
   "metadata": {},
   "source": [
    "# Stock ranking using YetiRankPairwise"
   ]
  },
  {
   "cell_type": "code",
   "execution_count": 5,
   "metadata": {},
   "outputs": [],
   "source": [
    "data_provider = SectoralDataProvider(cache_path='/Users/j4yzer/PycharmProjects/VKR/data/sectoral_ml')\n",
    "data: pd.DataFrame = data_provider.load_data()\n",
    "\n",
    "data['date'] = pd.to_datetime(data['date'], format='%Y-%m-%d', utc=False)\n",
    "\n",
    "data = data.replace([-np.Inf, np.Inf], np.nan)\n",
    "data = data.dropna()\n",
    "data_by_sector = {sector: sector_data for sector, sector_data in data.groupby('sector')}\n",
    "for sector, sector_data in data_by_sector.items():\n",
    "    sector_data = sector_data.groupby(\"date\").filter(lambda x: len(x) > 30)\n",
    "    sector_data = sector_data[\n",
    "        sector_data.groupby('ticker')['date'].transform('nunique') == sector_data['date'].nunique()]\n",
    "    sector_data['nextPeriodRelativeToSectoralIndexReturn'] = sector_data.groupby(\"date\")[\n",
    "        \"nextPeriodRelativeToSectoralIndexReturn\"].rank(\"dense\", ascending=True).astype(int)\n",
    "    sector_data.rename(columns={'nextPeriodRelativeToSectoralIndexReturn': 'nextPeriodRank'}, inplace=True)\n",
    "    sector_data['relativeToSectoralIndexReturn'] = sector_data.groupby('date')['relativeToSectoralIndexReturn'].rank(\n",
    "        'dense', ascending=True).astype(int)\n",
    "    sector_data.rename(columns={'relativeToSectoralIndexReturn': 'rank'}, inplace=True)\n",
    "    data_by_sector[sector] = sector_data\n",
    "energy_data = data_by_sector['Energy']\n",
    "\n",
    "energy_data['nextPeriodRank'] = energy_data['nextPeriodRank'] / energy_data['nextPeriodRank'].max()\n",
    "energy_data['rank'] = energy_data['rank'] / energy_data['rank'].max()\n",
    "energy_data: pd.DataFrame = energy_data\n",
    "energy_data['qid'] = energy_data['date'].astype('int64')"
   ]
  },
  {
   "cell_type": "code",
   "execution_count": 7,
   "metadata": {},
   "outputs": [],
   "source": [
    "time_config = {'train': '2000-01-01', 'valid': '2014-01-01', 'test': '2018-01-01'}\n",
    "train_energy_data = energy_data[\n",
    "    (energy_data['date'] > time_config['train']) & (energy_data['date'] <= time_config['valid'])]\n",
    "test_energy_data = energy_data[\n",
    "    (energy_data['date'] > time_config['valid']) & (energy_data['date'] <= time_config['test'])]"
   ]
  },
  {
   "cell_type": "code",
   "execution_count": 8,
   "metadata": {},
   "outputs": [],
   "source": [
    "y_train = train_energy_data[['nextPeriodRank']]\n",
    "X_train = train_energy_data[train_energy_data.drop(columns=['ticker', 'sector',\n",
    "                                                            'closePrice',\n",
    "                                                            'sectoralIndex', 'nextPeriodRank', 'date', 'qid']).columns]\n",
    "queries_train = train_energy_data[['qid']]\n",
    "\n",
    "y_test = test_energy_data[['nextPeriodRank']]\n",
    "X_test = test_energy_data[test_energy_data.drop(columns=['ticker', 'sector',\n",
    "                                                         'closePrice',\n",
    "                                                         'sectoralIndex', 'nextPeriodRank', 'date', 'qid']).columns]\n",
    "queries_test = test_energy_data[['qid']]"
   ]
  },
  {
   "cell_type": "code",
   "execution_count": 10,
   "metadata": {},
   "outputs": [],
   "source": [
    "from numpy import int64\n",
    "from tuning.random_ranker import ShuffleRanker\n",
    "\n",
    "train = Pool(\n",
    "    data=X_train,\n",
    "    label=y_train,\n",
    "    group_id=queries_train\n",
    ")\n",
    "\n",
    "test = Pool(\n",
    "    data=X_test,\n",
    "    label=y_test,\n",
    "    group_id=queries_test\n",
    ")\n",
    "default_parameters = {\n",
    "    'iterations': 100,\n",
    "    'custom_metric': ['NDCG:top=10', 'PFound', 'AverageGain:top=10'],\n",
    "    'verbose': False,\n",
    "    'random_seed': 0\n",
    "}\n",
    "\n",
    "parameters = {}\n",
    "\n",
    "\n",
    "def fit_model(loss_function, additional_params=None, train_pool=train, test_pool=test):\n",
    "    parameters = deepcopy(default_parameters)\n",
    "    parameters['loss_function'] = loss_function\n",
    "    parameters['train_dir'] = loss_function\n",
    "\n",
    "    if additional_params is not None:\n",
    "        parameters.update(additional_params)\n",
    "\n",
    "    model = ShuffleRanker(**parameters) if loss_function == 'ShuffleRanker' else CatBoostRanker(**parameters)\n",
    "    model.fit(train_pool, eval_set=test_pool, plot=True)\n",
    "\n",
    "    return model\n",
    "\n",
    "\n",
    "cv_default_parameters = {\n",
    "    'custom_metric': ['NDCG:top=10', 'PFound', 'AverageGain:top=10'],\n",
    "    'iterations': 100,\n",
    "    'verbose': False,\n",
    "    'random_seed': 0\n",
    "}\n",
    "\n",
    "\n",
    "def cv_model(loss_function, additional_params=None, fold_count=5, pool=train, train_dir_root='cv_info'):\n",
    "    parameters = deepcopy(cv_default_parameters)\n",
    "    if additional_params is not None:\n",
    "        parameters.update(additional_params)\n",
    "\n",
    "    kf = KFold(n_splits=fold_count)\n",
    "    train_df = pd.DataFrame(\n",
    "        np.concatenate((pool.get_features().T, [pool.get_group_id_hash()], [pool.get_label()]), axis=0).T,\n",
    "        columns=[*pool.get_feature_names(), 'group_id', 'label'])\n",
    "    X = train_df.drop(['label', 'group_id'], axis=1)\n",
    "    y = train_df['label']\n",
    "    group_ids = train_df['group_id'].astype(np.uint64)\n",
    "    for fold_num, indexes in enumerate(kf.split(train_df)):\n",
    "        train_index, test_index = indexes\n",
    "        print('Fold number', fold_num)\n",
    "        cur_train_dir = train_dir_root + '/fold_' + fold_num.__str__()\n",
    "        X_train, X_val = X.iloc[train_index], X.iloc[test_index]\n",
    "        y_train, y_val = y.iloc[train_index], y.iloc[test_index]\n",
    "        gid_train, gid_val = group_ids.iloc[train_index], group_ids.iloc[test_index]\n",
    "\n",
    "        cur_train_pool = Pool(data=X_train,\n",
    "                              label=y_train,\n",
    "                              group_id=gid_train)\n",
    "        cur_val_pool = Pool(data=X_val,\n",
    "                              label=y_val,\n",
    "                              group_id=gid_val)\n",
    "\n",
    "        model = fit_model(loss_function, {**parameters, 'train_dir': cur_train_dir}, train_pool=cur_train_pool, test_pool=cur_val_pool)\n",
    "        print(model.get_best_score())\n",
    "        print()"
   ]
  },
  {
   "cell_type": "markdown",
   "metadata": {},
   "source": [
    "# CV different models"
   ]
  },
  {
   "cell_type": "code",
   "execution_count": 11,
   "metadata": {},
   "outputs": [
    {
     "name": "stdout",
     "output_type": "stream",
     "text": [
      "ShuffleRanker\n",
      "Fold number 0\n"
     ]
    },
    {
     "name": "stderr",
     "output_type": "stream",
     "text": [
      "/Users/j4yzer/PycharmProjects/VKR/venv/lib/python3.10/site-packages/catboost/core.py:1419: FutureWarning: iteritems is deprecated and will be removed in a future version. Use .items instead.\n",
      "  self._init_pool(data, label, cat_features, text_features, embedding_features, embedding_features_data, pairs, weight,\n",
      "2023-04-01 12:40:23.627115: I tensorflow/core/platform/cpu_feature_guard.cc:193] This TensorFlow binary is optimized with oneAPI Deep Neural Network Library (oneDNN) to use the following CPU instructions in performance-critical operations:  AVX2 FMA\n",
      "To enable them in other operations, rebuild TensorFlow with the appropriate compiler flags.\n"
     ]
    },
    {
     "name": "stdout",
     "output_type": "stream",
     "text": [
      "{'train_set:': {'ERR:top=10': 0.6833773801839665, 'NDCG:top=5;type=Exp': 0.46762645571642053, 'PrecisionAt:top=10': 0.45714285714285713, 'AverageGain:top=5': 0.5045525617897512, 'MAP:top=10': 0.2946315192743764}, 'test_set': {'ERR:top=10': 0.6077892844410413, 'NDCG:top=5;type=Exp': 0.4146691096786279, 'PrecisionAt:top=10': 0.39999999999999997, 'AverageGain:top=5': 0.47195286854273744, 'MAP:top=10': 0.19556878306878306}}\n",
      "None\n",
      "\n",
      "Fold number 1\n"
     ]
    },
    {
     "name": "stderr",
     "output_type": "stream",
     "text": [
      "/Users/j4yzer/PycharmProjects/VKR/venv/lib/python3.10/site-packages/catboost/core.py:1419: FutureWarning: iteritems is deprecated and will be removed in a future version. Use .items instead.\n",
      "  self._init_pool(data, label, cat_features, text_features, embedding_features, embedding_features_data, pairs, weight,\n"
     ]
    },
    {
     "name": "stdout",
     "output_type": "stream",
     "text": [
      "{'train_set:': {'ERR:top=10': 0.7298391387121966, 'NDCG:top=5;type=Exp': 0.5065688994966181, 'PrecisionAt:top=10': 0.5428571428571427, 'AverageGain:top=5': 0.5363694171820368, 'MAP:top=10': 0.3649897959183674}, 'test_set': {'ERR:top=10': 0.7026270302246174, 'NDCG:top=5;type=Exp': 0.50802197972524, 'PrecisionAt:top=10': 0.55, 'AverageGain:top=5': 0.531520113274455, 'MAP:top=10': 0.39656878306878307}}\n",
      "None\n",
      "\n",
      "Fold number 2\n"
     ]
    },
    {
     "name": "stderr",
     "output_type": "stream",
     "text": [
      "/Users/j4yzer/PycharmProjects/VKR/venv/lib/python3.10/site-packages/catboost/core.py:1419: FutureWarning: iteritems is deprecated and will be removed in a future version. Use .items instead.\n",
      "  self._init_pool(data, label, cat_features, text_features, embedding_features, embedding_features_data, pairs, weight,\n"
     ]
    },
    {
     "name": "stdout",
     "output_type": "stream",
     "text": [
      "{'train_set:': {'ERR:top=10': 0.6548943540614984, 'NDCG:top=5;type=Exp': 0.4578832531909204, 'PrecisionAt:top=10': 0.5111111111111111, 'AverageGain:top=5': 0.5024267140775919, 'MAP:top=10': 0.3257344944150499}, 'test_set': {'ERR:top=10': 0.7405818219989921, 'NDCG:top=5;type=Exp': 0.4913507202539449, 'PrecisionAt:top=10': 0.48888888888888893, 'AverageGain:top=5': 0.5157912559807302, 'MAP:top=10': 0.3100176366843034}}\n",
      "None\n",
      "\n",
      "Fold number 3\n"
     ]
    },
    {
     "name": "stderr",
     "output_type": "stream",
     "text": [
      "/Users/j4yzer/PycharmProjects/VKR/venv/lib/python3.10/site-packages/catboost/core.py:1419: FutureWarning: iteritems is deprecated and will be removed in a future version. Use .items instead.\n",
      "  self._init_pool(data, label, cat_features, text_features, embedding_features, embedding_features_data, pairs, weight,\n"
     ]
    },
    {
     "name": "stdout",
     "output_type": "stream",
     "text": [
      "{'train_set:': {'ERR:top=10': 0.656311072646675, 'NDCG:top=5;type=Exp': 0.4409069731397473, 'PrecisionAt:top=10': 0.46000000000000013, 'AverageGain:top=5': 0.48328716623995993, 'MAP:top=10': 0.28664739229024944}, 'test_set': {'ERR:top=10': 0.7534893214613554, 'NDCG:top=5;type=Exp': 0.5119523186083679, 'PrecisionAt:top=10': 0.6, 'AverageGain:top=5': 0.5317274582386017, 'MAP:top=10': 0.4317619047619047}}\n",
      "None\n",
      "\n",
      "Fold number 4\n"
     ]
    },
    {
     "name": "stderr",
     "output_type": "stream",
     "text": [
      "/Users/j4yzer/PycharmProjects/VKR/venv/lib/python3.10/site-packages/catboost/core.py:1419: FutureWarning: iteritems is deprecated and will be removed in a future version. Use .items instead.\n",
      "  self._init_pool(data, label, cat_features, text_features, embedding_features, embedding_features_data, pairs, weight,\n"
     ]
    },
    {
     "name": "stdout",
     "output_type": "stream",
     "text": [
      "{'train_set:': {'ERR:top=10': 0.6567059263833537, 'NDCG:top=5;type=Exp': 0.4430491619541976, 'PrecisionAt:top=10': 0.4742857142857143, 'AverageGain:top=5': 0.4797452161354678, 'MAP:top=10': 0.29071201814058956}, 'test_set': {'ERR:top=10': 0.60525072438528, 'NDCG:top=5;type=Exp': 0.4348119888443254, 'PrecisionAt:top=10': 0.4222222222222223, 'AverageGain:top=5': 0.48098766240808705, 'MAP:top=10': 0.24653880070546735}}\n",
      "None\n",
      "\n",
      "None\n",
      "LambdaMart\n",
      "Fold number 0\n"
     ]
    },
    {
     "name": "stderr",
     "output_type": "stream",
     "text": [
      "/Users/j4yzer/PycharmProjects/VKR/venv/lib/python3.10/site-packages/catboost/core.py:1419: FutureWarning: iteritems is deprecated and will be removed in a future version. Use .items instead.\n",
      "  self._init_pool(data, label, cat_features, text_features, embedding_features, embedding_features_data, pairs, weight,\n"
     ]
    },
    {
     "data": {
      "application/vnd.jupyter.widget-view+json": {
       "model_id": "aa9a43861380429a99811045501c1451",
       "version_major": 2,
       "version_minor": 0
      },
      "text/plain": [
       "MetricVisualizer(layout=Layout(align_self='stretch', height='500px'))"
      ]
     },
     "metadata": {},
     "output_type": "display_data"
    },
    {
     "name": "stdout",
     "output_type": "stream",
     "text": [
      "{'learn': {'MAP:top=10': 0.3558310657596371, 'ERR:top=10': 0.7177353984454655, 'PrecisionAt:top=10': 0.5314285714285714, 'AverageGain:top=5': 0.5421118019627674, 'NDCG:top=5;type=Exp': 0.5101641185258532}, 'validation': {'NDCG:type=Base': 0.8196577309732905, 'MAP:top=10': 0.27912698412698417, 'ERR:top=10': 0.7546717861685776, 'PrecisionAt:top=10': 0.4888888888888888, 'AverageGain:top=5': 0.48502415600750176, 'NDCG:top=5;type=Exp': 0.4423804670433539}}\n",
      "\n",
      "Fold number 1\n"
     ]
    },
    {
     "data": {
      "application/vnd.jupyter.widget-view+json": {
       "model_id": "e3e8329129914567adab81a687ab4dd0",
       "version_major": 2,
       "version_minor": 0
      },
      "text/plain": [
       "MetricVisualizer(layout=Layout(align_self='stretch', height='500px'))"
      ]
     },
     "metadata": {},
     "output_type": "display_data"
    },
    {
     "name": "stdout",
     "output_type": "stream",
     "text": [
      "{'learn': {'MAP:top=10': 0.28523015873015867, 'ERR:top=10': 0.6628349568839784, 'PrecisionAt:top=10': 0.4857142857142857, 'AverageGain:top=5': 0.46335403637162276, 'NDCG:top=5;type=Exp': 0.427955151243176}, 'validation': {'NDCG:type=Base': 0.8406341104897935, 'MAP:top=10': 0.3949801587301588, 'ERR:top=10': 0.7440935176868958, 'PrecisionAt:top=10': 0.5599999999999999, 'AverageGain:top=5': 0.5569565222039818, 'NDCG:top=5;type=Exp': 0.5426086417297629}}\n",
      "\n",
      "Fold number 2\n"
     ]
    },
    {
     "data": {
      "application/vnd.jupyter.widget-view+json": {
       "model_id": "325448399f38428f8a8fd961f55ddd2b",
       "version_major": 2,
       "version_minor": 0
      },
      "text/plain": [
       "MetricVisualizer(layout=Layout(align_self='stretch', height='500px'))"
      ]
     },
     "metadata": {},
     "output_type": "display_data"
    },
    {
     "name": "stdout",
     "output_type": "stream",
     "text": [
      "{'learn': {'MAP:top=10': 0.46461860670194, 'ERR:top=10': 0.7700735000390208, 'PrecisionAt:top=10': 0.5694444444444443, 'AverageGain:top=5': 0.5879227055236699, 'NDCG:top=5;type=Exp': 0.5714005724131767}, 'validation': {'NDCG:type=Base': 0.8482087372714775, 'MAP:top=10': 0.41104497354497355, 'ERR:top=10': 0.8419967349396709, 'PrecisionAt:top=10': 0.5555555555555556, 'AverageGain:top=5': 0.5381642493936751, 'NDCG:top=5;type=Exp': 0.5367265801035676}}\n",
      "\n",
      "Fold number 3\n"
     ]
    },
    {
     "data": {
      "application/vnd.jupyter.widget-view+json": {
       "model_id": "cae31774b48d410f8c350b3749bd7810",
       "version_major": 2,
       "version_minor": 0
      },
      "text/plain": [
       "MetricVisualizer(layout=Layout(align_self='stretch', height='500px'))"
      ]
     },
     "metadata": {},
     "output_type": "display_data"
    },
    {
     "name": "stdout",
     "output_type": "stream",
     "text": [
      "{'learn': {'MAP:top=10': 0.356109977324263, 'ERR:top=10': 0.74054379924375, 'PrecisionAt:top=10': 0.5114285714285715, 'AverageGain:top=5': 0.5571428559294768, 'NDCG:top=5;type=Exp': 0.5273755727580068}, 'validation': {'NDCG:type=Base': 0.8528456155822308, 'MAP:top=10': 0.4678174603174603, 'ERR:top=10': 0.7313269385073711, 'PrecisionAt:top=10': 0.6, 'AverageGain:top=5': 0.5908695657551288, 'NDCG:top=5;type=Exp': 0.5691157241953674}}\n",
      "\n",
      "Fold number 4\n"
     ]
    },
    {
     "data": {
      "application/vnd.jupyter.widget-view+json": {
       "model_id": "40f097b6dd514d5d95e4d38ec2976405",
       "version_major": 2,
       "version_minor": 0
      },
      "text/plain": [
       "MetricVisualizer(layout=Layout(align_self='stretch', height='500px'))"
      ]
     },
     "metadata": {},
     "output_type": "display_data"
    },
    {
     "name": "stdout",
     "output_type": "stream",
     "text": [
      "{'learn': {'MAP:top=10': 0.3807312925170068, 'ERR:top=10': 0.7290992420827112, 'PrecisionAt:top=10': 0.5371428571428569, 'AverageGain:top=5': 0.5383850926905871, 'NDCG:top=5;type=Exp': 0.5058310469901979}, 'validation': {'NDCG:type=Base': 0.8485340192567962, 'MAP:top=10': 0.4073280423280423, 'ERR:top=10': 0.8042406105906867, 'PrecisionAt:top=10': 0.5777777777777778, 'AverageGain:top=5': 0.5840579737391737, 'NDCG:top=5;type=Exp': 0.552896060514172}}\n",
      "\n",
      "None\n",
      "YetiRank\n",
      "Fold number 0\n"
     ]
    },
    {
     "name": "stderr",
     "output_type": "stream",
     "text": [
      "/Users/j4yzer/PycharmProjects/VKR/venv/lib/python3.10/site-packages/catboost/core.py:1419: FutureWarning: iteritems is deprecated and will be removed in a future version. Use .items instead.\n",
      "  self._init_pool(data, label, cat_features, text_features, embedding_features, embedding_features_data, pairs, weight,\n"
     ]
    },
    {
     "data": {
      "application/vnd.jupyter.widget-view+json": {
       "model_id": "7c29d717bfd84de7a9361b3bb8077bd7",
       "version_major": 2,
       "version_minor": 0
      },
      "text/plain": [
       "MetricVisualizer(layout=Layout(align_self='stretch', height='500px'))"
      ]
     },
     "metadata": {},
     "output_type": "display_data"
    },
    {
     "name": "stdout",
     "output_type": "stream",
     "text": [
      "{'learn': {'MAP:top=10': 0.9098866213151925, 'ERR:top=10': 0.9659560478672518, 'PrecisionAt:top=10': 0.9228571428571426, 'AverageGain:top=5': 0.863478262083871, 'NDCG:top=5;type=Exp': 0.8906974628586286}, 'validation': {'PFound': 0.952373237707794, 'MAP:top=10': 0.4410273368606702, 'ERR:top=10': 0.8808152837357807, 'PrecisionAt:top=10': 0.6111111111111112, 'AverageGain:top=5': 0.6338164260817898, 'NDCG:top=5;type=Exp': 0.6440160501117297}}\n",
      "\n",
      "Fold number 1\n"
     ]
    },
    {
     "data": {
      "application/vnd.jupyter.widget-view+json": {
       "model_id": "f279b8a9a4724ace8319335ca99ea125",
       "version_major": 2,
       "version_minor": 0
      },
      "text/plain": [
       "MetricVisualizer(layout=Layout(align_self='stretch', height='500px'))"
      ]
     },
     "metadata": {},
     "output_type": "display_data"
    },
    {
     "name": "stdout",
     "output_type": "stream",
     "text": [
      "{'learn': {'MAP:top=10': 0.9036201814058955, 'ERR:top=10': 0.9545771026734546, 'PrecisionAt:top=10': 0.9314285714285713, 'AverageGain:top=5': 0.8644720515183038, 'NDCG:top=5;type=Exp': 0.8796913273780753}, 'validation': {'PFound': 0.8799290691399329, 'MAP:top=10': 0.4314325396825397, 'ERR:top=10': 0.7091212033625973, 'PrecisionAt:top=10': 0.58, 'AverageGain:top=5': 0.5830434757471086, 'NDCG:top=5;type=Exp': 0.5530493777772737}}\n",
      "\n",
      "Fold number 2\n"
     ]
    },
    {
     "data": {
      "application/vnd.jupyter.widget-view+json": {
       "model_id": "4d110c287f9b41ecb015d2ba8cd7cb22",
       "version_major": 2,
       "version_minor": 0
      },
      "text/plain": [
       "MetricVisualizer(layout=Layout(align_self='stretch', height='500px'))"
      ]
     },
     "metadata": {},
     "output_type": "display_data"
    },
    {
     "name": "stdout",
     "output_type": "stream",
     "text": [
      "{'learn': {'MAP:top=10': 0.8991843033509698, 'ERR:top=10': 0.9646785068416857, 'PrecisionAt:top=10': 0.8999999999999998, 'AverageGain:top=5': 0.8521739143050377, 'NDCG:top=5;type=Exp': 0.8876146214729888}, 'validation': {'PFound': 0.8924225011585034, 'MAP:top=10': 0.3689550264550264, 'ERR:top=10': 0.7243751378100407, 'PrecisionAt:top=10': 0.5777777777777778, 'AverageGain:top=5': 0.5990338201738066, 'NDCG:top=5;type=Exp': 0.5443907104229502}}\n",
      "\n",
      "Fold number 3\n"
     ]
    },
    {
     "data": {
      "application/vnd.jupyter.widget-view+json": {
       "model_id": "254faef3e27841e2aaec971fa5a3a13c",
       "version_major": 2,
       "version_minor": 0
      },
      "text/plain": [
       "MetricVisualizer(layout=Layout(align_self='stretch', height='500px'))"
      ]
     },
     "metadata": {},
     "output_type": "display_data"
    },
    {
     "name": "stdout",
     "output_type": "stream",
     "text": [
      "{'learn': {'MAP:top=10': 0.8932970521541951, 'ERR:top=10': 0.9456019676639709, 'PrecisionAt:top=10': 0.9257142857142857, 'AverageGain:top=5': 0.8532919282146862, 'NDCG:top=5;type=Exp': 0.869264686877199}, 'validation': {'PFound': 0.935386023364223, 'MAP:top=10': 0.4451587301587302, 'ERR:top=10': 0.8132958479025179, 'PrecisionAt:top=10': 0.5900000000000001, 'AverageGain:top=5': 0.6356521771103144, 'NDCG:top=5;type=Exp': 0.6410574356616114}}\n",
      "\n",
      "Fold number 4\n"
     ]
    },
    {
     "data": {
      "application/vnd.jupyter.widget-view+json": {
       "model_id": "0f3d3974d33a4711a21ab81469c68169",
       "version_major": 2,
       "version_minor": 0
      },
      "text/plain": [
       "MetricVisualizer(layout=Layout(align_self='stretch', height='500px'))"
      ]
     },
     "metadata": {},
     "output_type": "display_data"
    },
    {
     "name": "stdout",
     "output_type": "stream",
     "text": [
      "{'learn': {'MAP:top=10': 0.9122052154195012, 'ERR:top=10': 0.9649540889913271, 'PrecisionAt:top=10': 0.9285714285714286, 'AverageGain:top=5': 0.8633540391921996, 'NDCG:top=5;type=Exp': 0.8862397485479475}, 'validation': {'PFound': 0.930661853710499, 'MAP:top=10': 0.42961640211640206, 'ERR:top=10': 0.8091135217025368, 'PrecisionAt:top=10': 0.6000000000000001, 'AverageGain:top=5': 0.6202898537947072, 'NDCG:top=5;type=Exp': 0.5862414475665433}}\n",
      "\n",
      "None\n",
      "YetiRankPairwise\n",
      "Fold number 0\n"
     ]
    },
    {
     "name": "stderr",
     "output_type": "stream",
     "text": [
      "/Users/j4yzer/PycharmProjects/VKR/venv/lib/python3.10/site-packages/catboost/core.py:1419: FutureWarning: iteritems is deprecated and will be removed in a future version. Use .items instead.\n",
      "  self._init_pool(data, label, cat_features, text_features, embedding_features, embedding_features_data, pairs, weight,\n"
     ]
    },
    {
     "data": {
      "application/vnd.jupyter.widget-view+json": {
       "model_id": "7e78b3494ea84a33b6129172f73a9ae6",
       "version_major": 2,
       "version_minor": 0
      },
      "text/plain": [
       "MetricVisualizer(layout=Layout(align_self='stretch', height='500px'))"
      ]
     },
     "metadata": {},
     "output_type": "display_data"
    },
    {
     "name": "stdout",
     "output_type": "stream",
     "text": [
      "{'learn': {'MAP:top=10': 0.7471587301587304, 'ERR:top=10': 0.9323816030576674, 'PrecisionAt:top=10': 0.8199999999999998, 'AverageGain:top=5': 0.7908074550011327, 'NDCG:top=5;type=Exp': 0.8057526211830222}, 'validation': {'PFound': 0.9631210222463762, 'MAP:top=10': 0.46845238095238106, 'ERR:top=10': 0.9046628581402972, 'PrecisionAt:top=10': 0.6333333333333333, 'AverageGain:top=5': 0.6487922691636616, 'NDCG:top=5;type=Exp': 0.6540062913730454}}\n",
      "\n",
      "Fold number 1\n"
     ]
    },
    {
     "data": {
      "application/vnd.jupyter.widget-view+json": {
       "model_id": "682bfe5590284d87bdbd9226b4caf303",
       "version_major": 2,
       "version_minor": 0
      },
      "text/plain": [
       "MetricVisualizer(layout=Layout(align_self='stretch', height='500px'))"
      ]
     },
     "metadata": {},
     "output_type": "display_data"
    },
    {
     "name": "stdout",
     "output_type": "stream",
     "text": [
      "{'learn': {'MAP:top=10': 0.7339988662131518, 'ERR:top=10': 0.9160507515333248, 'PrecisionAt:top=10': 0.8228571428571428, 'AverageGain:top=5': 0.7668322982319765, 'NDCG:top=5;type=Exp': 0.7696024566008673}, 'validation': {'PFound': 0.8935689521920329, 'MAP:top=10': 0.46469444444444435, 'ERR:top=10': 0.7277745671234512, 'PrecisionAt:top=10': 0.5900000000000001, 'AverageGain:top=5': 0.5726086927950382, 'NDCG:top=5;type=Exp': 0.5607382214470267}}\n",
      "\n",
      "Fold number 2\n"
     ]
    },
    {
     "data": {
      "application/vnd.jupyter.widget-view+json": {
       "model_id": "fb5b9b88b1604216bb5a9052273fac19",
       "version_major": 2,
       "version_minor": 0
      },
      "text/plain": [
       "MetricVisualizer(layout=Layout(align_self='stretch', height='500px'))"
      ]
     },
     "metadata": {},
     "output_type": "display_data"
    },
    {
     "name": "stdout",
     "output_type": "stream",
     "text": [
      "{'learn': {'MAP:top=10': 0.7231095679012347, 'ERR:top=10': 0.9198126995594593, 'PrecisionAt:top=10': 0.7749999999999999, 'AverageGain:top=5': 0.7719806767896645, 'NDCG:top=5;type=Exp': 0.7847907665628218}, 'validation': {'PFound': 0.9190074069631334, 'MAP:top=10': 0.4164373897707231, 'ERR:top=10': 0.7878607193747774, 'PrecisionAt:top=10': 0.5777777777777778, 'AverageGain:top=5': 0.6004830952319834, 'NDCG:top=5;type=Exp': 0.5739947177232346}}\n",
      "\n",
      "Fold number 3\n"
     ]
    },
    {
     "data": {
      "application/vnd.jupyter.widget-view+json": {
       "model_id": "fef73a2a84d84f58b4ecc5475d9ca73f",
       "version_major": 2,
       "version_minor": 0
      },
      "text/plain": [
       "MetricVisualizer(layout=Layout(align_self='stretch', height='500px'))"
      ]
     },
     "metadata": {},
     "output_type": "display_data"
    },
    {
     "name": "stdout",
     "output_type": "stream",
     "text": [
      "{'learn': {'MAP:top=10': 0.7111031746031743, 'ERR:top=10': 0.8698897552118872, 'PrecisionAt:top=10': 0.8, 'AverageGain:top=5': 0.7445962739842279, 'NDCG:top=5;type=Exp': 0.7362611818469055}, 'validation': {'PFound': 0.9357226838135307, 'MAP:top=10': 0.4883214285714286, 'ERR:top=10': 0.8258374233818951, 'PrecisionAt:top=10': 0.64, 'AverageGain:top=5': 0.6447826129943132, 'NDCG:top=5;type=Exp': 0.6422991782100567}}\n",
      "\n",
      "Fold number 4\n"
     ]
    },
    {
     "data": {
      "application/vnd.jupyter.widget-view+json": {
       "model_id": "d2e6c10eb71840b9adb67875eb86e548",
       "version_major": 2,
       "version_minor": 0
      },
      "text/plain": [
       "MetricVisualizer(layout=Layout(align_self='stretch', height='500px'))"
      ]
     },
     "metadata": {},
     "output_type": "display_data"
    },
    {
     "name": "stdout",
     "output_type": "stream",
     "text": [
      "{'learn': {'MAP:top=10': 0.7362936507936508, 'ERR:top=10': 0.9023311967532789, 'PrecisionAt:top=10': 0.8142857142857142, 'AverageGain:top=5': 0.7606211185029574, 'NDCG:top=5;type=Exp': 0.7585489767427055}, 'validation': {'PFound': 0.9222837660679419, 'MAP:top=10': 0.4036287477954144, 'ERR:top=10': 0.8064244255222245, 'PrecisionAt:top=10': 0.5777777777777778, 'AverageGain:top=5': 0.5869565188056893, 'NDCG:top=5;type=Exp': 0.5732979348866647}}\n",
      "\n",
      "None\n"
     ]
    }
   ],
   "source": [
    "# model_yr = fit_model('QuerySoftMax', {'custom_metric': ['ERR:top=10;hints=skip_train~false',\n",
    "#                                                         'NDCG:top=5;hints=skip_train~false;type=Exp;denominator=LogPosition',\n",
    "#                                                         'PrecisionAt:top=10;hints=skip_train~false',\n",
    "#                                                         'AverageGain:top=5;hints=skip_train~false',\n",
    "#                                                         'MAP:top=10;hints=skip_train~false']})\n",
    "# model_yr.get_best_score()\n",
    "losses = ['ShuffleRanker', 'LambdaMart', 'YetiRank', 'YetiRankPairwise']\n",
    "\n",
    "common_loss_params = {'custom_metric': ['ERR:top=10;hints=skip_train~false','NDCG:top=5;type=Exp;hints=skip_train~false;denominator=LogPosition', 'PrecisionAt:top=10;hints=skip_train~false', 'AverageGain:top=5;hints=skip_train~false', 'MAP:top=10;hints=skip_train~false']}\n",
    "losses_params = { 'LambdaMart': {'min_data_in_leaf': 16.0,\n",
    "  'depth': 6.0,\n",
    "  'learning_rate': 0.1099106232543746,\n",
    "  'l2_leaf_reg': 4.611787632797961,\n",
    "  'iterations': 573.0}, 'YetiRank': {}, 'YetiRankPairwise':{}, 'ShuffleRanker': {}}\n",
    "losses_logdir = {'LambdaMart':'LambdaMart', 'YetiRank':'YetiRank', 'YetiRankPairwise': 'YetiRankPairwise',\n",
    "                 'ShuffleRanker': 'ShuffleRanker'}\n",
    "for loss in losses:\n",
    "    loss_params = {**common_loss_params, **losses_params[loss]}\n",
    "    print(loss)\n",
    "    cur_cv_train_dir = 'cv_info/' + losses_logdir[loss]\n",
    "    os.makedirs(cur_cv_train_dir, exist_ok=True)\n",
    "    print(cv_model(loss_function=loss, additional_params=loss_params, fold_count=5, train_dir_root=cur_cv_train_dir))"
   ]
  },
  {
   "cell_type": "markdown",
   "metadata": {},
   "source": []
  },
  {
   "cell_type": "code",
   "execution_count": 14,
   "metadata": {},
   "outputs": [
    {
     "data": {
      "text/plain": [
       "Launching TensorBoard..."
      ]
     },
     "metadata": {},
     "output_type": "display_data"
    },
    {
     "data": {
      "text/html": [
       "\n",
       "      <iframe id=\"tensorboard-frame-7ae0de97ca8e9707\" width=\"100%\" height=\"800\" frameborder=\"0\">\n",
       "      </iframe>\n",
       "      <script>\n",
       "        (function() {\n",
       "          const frame = document.getElementById(\"tensorboard-frame-7ae0de97ca8e9707\");\n",
       "          const url = new URL(\"/\", window.location);\n",
       "          const port = 6006;\n",
       "          if (port) {\n",
       "            url.port = port;\n",
       "          }\n",
       "          frame.src = url;\n",
       "        })();\n",
       "      </script>\n",
       "    "
      ],
      "text/plain": [
       "<IPython.core.display.HTML object>"
      ]
     },
     "metadata": {},
     "output_type": "display_data"
    }
   ],
   "source": [
    "%tensorboard --logdir cv_in"
   ]
  },
  {
   "cell_type": "code",
   "execution_count": 19,
   "metadata": {},
   "outputs": [
    {
     "data": {
      "text/plain": [
       "Launching TensorBoard..."
      ]
     },
     "metadata": {},
     "output_type": "display_data"
    }
   ],
   "source": [
    "%tensorboard dev upload --logdir \\\n",
    "    'cv_inf'"
   ]
  },
  {
   "cell_type": "markdown",
   "metadata": {},
   "source": [
    "# Random search and Bayesian optimization w/ Catboost"
   ]
  },
  {
   "cell_type": "markdown",
   "metadata": {},
   "source": [
    "## Util random search"
   ]
  },
  {
   "cell_type": "code",
   "execution_count": null,
   "metadata": {},
   "outputs": [],
   "source": [
    "from utils.ranking_eval_utils import get_metrics\n",
    "from skopt import BayesSearchCV\n",
    "from sklearn.model_selection import RandomizedSearchCV\n",
    "\n",
    "def rand_search(model, pool, cv, n_iter, metrics=get_metrics()):\n"
   ]
  },
  {
   "cell_type": "markdown",
   "metadata": {},
   "source": [
    "## YetiRank"
   ]
  },
  {
   "cell_type": "markdown",
   "metadata": {},
   "source": [
    "### Random Search"
   ]
  },
  {
   "cell_type": "code",
   "execution_count": 12,
   "metadata": {},
   "outputs": [
    {
     "name": "stdout",
     "output_type": "stream",
     "text": [
      "\n",
      "bestTest = 0.8528224998\n",
      "bestIteration = 332\n",
      "\n",
      "0:\tloss: 0.8528225\tbest: 0.8528225 (0)\ttotal: 1.75s\tremaining: 33.2s\n",
      "\n",
      "bestTest = 0.8436513797\n",
      "bestIteration = 89\n",
      "\n",
      "1:\tloss: 0.8436514\tbest: 0.8528225 (0)\ttotal: 2.84s\tremaining: 25.6s\n",
      "\n",
      "bestTest = 0.8280185409\n",
      "bestIteration = 88\n",
      "\n",
      "2:\tloss: 0.8280185\tbest: 0.8528225 (0)\ttotal: 3.13s\tremaining: 17.8s\n",
      "\n",
      "bestTest = 0.8254427192\n",
      "bestIteration = 152\n",
      "\n",
      "3:\tloss: 0.8254427\tbest: 0.8528225 (0)\ttotal: 5.74s\tremaining: 23s\n",
      "\n",
      "bestTest = 0.8367523141\n",
      "bestIteration = 33\n",
      "\n",
      "4:\tloss: 0.8367523\tbest: 0.8528225 (0)\ttotal: 6.93s\tremaining: 20.8s\n",
      "\n",
      "bestTest = 0.846400293\n",
      "bestIteration = 923\n",
      "\n",
      "5:\tloss: 0.8464003\tbest: 0.8528225 (0)\ttotal: 10s\tremaining: 23.4s\n",
      "\n",
      "bestTest = 0.8386927904\n",
      "bestIteration = 66\n",
      "\n",
      "6:\tloss: 0.8386928\tbest: 0.8528225 (0)\ttotal: 11.7s\tremaining: 21.7s\n",
      "\n",
      "bestTest = 0.8474565435\n",
      "bestIteration = 57\n",
      "\n",
      "7:\tloss: 0.8474565\tbest: 0.8528225 (0)\ttotal: 13s\tremaining: 19.5s\n",
      "\n",
      "bestTest = 0.8518575278\n",
      "bestIteration = 19\n",
      "\n",
      "8:\tloss: 0.8518575\tbest: 0.8528225 (0)\ttotal: 16.1s\tremaining: 19.7s\n",
      "\n",
      "bestTest = 0.8535063672\n",
      "bestIteration = 242\n",
      "\n",
      "9:\tloss: 0.8535064\tbest: 0.8535064 (9)\ttotal: 18.5s\tremaining: 18.5s\n",
      "\n",
      "bestTest = 0.8367045118\n",
      "bestIteration = 4\n",
      "\n",
      "10:\tloss: 0.8367045\tbest: 0.8535064 (9)\ttotal: 19s\tremaining: 15.5s\n",
      "\n",
      "bestTest = 0.8300917503\n",
      "bestIteration = 8\n",
      "\n",
      "11:\tloss: 0.8300918\tbest: 0.8535064 (9)\ttotal: 20.4s\tremaining: 13.6s\n",
      "\n",
      "bestTest = 0.8531226722\n",
      "bestIteration = 200\n",
      "\n",
      "12:\tloss: 0.8531227\tbest: 0.8535064 (9)\ttotal: 21.5s\tremaining: 11.6s\n",
      "\n",
      "bestTest = 0.8385662757\n",
      "bestIteration = 28\n",
      "\n",
      "13:\tloss: 0.8385663\tbest: 0.8535064 (9)\ttotal: 22.7s\tremaining: 9.71s\n",
      "\n",
      "bestTest = 0.8432780482\n",
      "bestIteration = 19\n",
      "\n",
      "14:\tloss: 0.8432780\tbest: 0.8535064 (9)\ttotal: 24.4s\tremaining: 8.12s\n",
      "\n",
      "bestTest = 0.8434949572\n",
      "bestIteration = 25\n",
      "\n",
      "15:\tloss: 0.8434950\tbest: 0.8535064 (9)\ttotal: 25.7s\tremaining: 6.42s\n",
      "\n",
      "bestTest = 0.8682890217\n",
      "bestIteration = 119\n",
      "\n",
      "16:\tloss: 0.8682890\tbest: 0.8682890 (16)\ttotal: 26.7s\tremaining: 4.71s\n",
      "\n",
      "bestTest = 0.8627586842\n",
      "bestIteration = 10\n",
      "\n",
      "17:\tloss: 0.8627587\tbest: 0.8682890 (16)\ttotal: 31.1s\tremaining: 3.46s\n",
      "\n",
      "bestTest = 0.8660468174\n",
      "bestIteration = 347\n",
      "\n",
      "18:\tloss: 0.8660468\tbest: 0.8682890 (16)\ttotal: 33.5s\tremaining: 1.76s\n",
      "\n",
      "bestTest = 0.8137488864\n",
      "bestIteration = 249\n",
      "\n",
      "19:\tloss: 0.8137489\tbest: 0.8682890 (16)\ttotal: 34.2s\tremaining: 0us\n",
      "Estimating final quality...\n",
      "Training on fold [0/5]\n",
      "\n",
      "bestTest = 0.8721835242\n",
      "bestIteration = 111\n",
      "\n",
      "Training on fold [1/5]\n",
      "\n",
      "bestTest = 0.8666461536\n",
      "bestIteration = 261\n",
      "\n",
      "Training on fold [2/5]\n",
      "\n",
      "bestTest = 0.8515106034\n",
      "bestIteration = 80\n",
      "\n",
      "Training on fold [3/5]\n",
      "\n",
      "bestTest = 0.8556365824\n",
      "bestIteration = 3\n",
      "\n",
      "Training on fold [4/5]\n",
      "\n",
      "bestTest = 0.832329715\n",
      "bestIteration = 265\n",
      "\n"
     ]
    },
    {
     "data": {
      "text/plain": [
       "{'params': {'min_data_in_leaf': 16.0,\n",
       "  'depth': 5.0,\n",
       "  'learning_rate': 0.0228892111591955,\n",
       "  'l2_leaf_reg': 5.8416946110563766,\n",
       "  'iterations': 295.0}}"
      ]
     },
     "execution_count": 12,
     "metadata": {},
     "output_type": "execute_result"
    }
   ],
   "source": [
    "from utils.ranking_eval_utils import get_metrics\n",
    "from scipy.stats import loguniform, uniform, geom, logser, randint\n",
    "\n",
    "loss = 'LambdaMart:hints=skip_train~false'\n",
    "grid_distrs = {\n",
    "    'iterations': randint(100, 1000),\n",
    "    'learning_rate': loguniform(1e-4, 1),\n",
    "    'l2_leaf_reg': loguniform(1e-3, 100),\n",
    "    'depth': randint(3, 9),\n",
    "    'min_data_in_leaf': randint(8, 20),\n",
    "\n",
    "}\n",
    "model = CatBoostRanker(loss_function=loss, train_dir=loss, verbose=False, random_seed=2)\n",
    "model.randomized_search(grid_distrs, X=train, cv=5, plot=False, n_iter=20, calc_cv_statistics=False, refit=False)"
   ]
  },
  {
   "cell_type": "markdown",
   "metadata": {},
   "source": [
    "# Portfolio evaluation"
   ]
  }
 ],
 "metadata": {
  "kernelspec": {
   "display_name": "Python 3 (ipykernel)",
   "language": "python",
   "name": "python3"
  },
  "language_info": {
   "codemirror_mode": {
    "name": "ipython",
    "version": 3
   },
   "file_extension": ".py",
   "mimetype": "text/x-python",
   "name": "python",
   "nbconvert_exporter": "python",
   "pygments_lexer": "ipython3",
   "version": "3.10.10"
  }
 },
 "nbformat": 4,
 "nbformat_minor": 1
}
