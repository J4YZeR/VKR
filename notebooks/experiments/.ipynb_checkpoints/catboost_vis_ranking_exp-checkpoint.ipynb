{
 "cells": [
  {
   "cell_type": "code",
   "execution_count": 2,
   "metadata": {},
   "outputs": [],
   "source": [
    "import sys\n",
    "sys.path.extend(['/Users/j4yzer/PycharmProjects/VKR'])\n",
    "from utils.ml_data_provider import SectoralDataProvider\n",
    "\n",
    "from catboost import CatBoostRanker, Pool, MetricVisualizer\n",
    "from copy import deepcopy\n",
    "import numpy as np\n",
    "import os\n",
    "import numpy as np\n",
    "import pandas as pd"
   ]
  },
  {
   "cell_type": "code",
   "execution_count": 3,
   "metadata": {},
   "outputs": [],
   "source": [
    "data_provider = SectoralDataProvider(cache_path='/Users/j4yzer/PycharmProjects/VKR/data/sectoral_ml')\n",
    "data : pd.DataFrame = data_provider.load_data()\n",
    "\n",
    "data['date'] = pd.to_datetime(data['date'], format='%Y-%m-%d', utc=False)\n",
    "\n",
    "data = data.replace([-np.Inf, np.Inf], np.nan)\n",
    "data = data.dropna()\n",
    "data_by_sector = {sector: sector_data for sector, sector_data in data.groupby('sector')}\n",
    "for sector, sector_data in data_by_sector.items():\n",
    "    sector_data = sector_data.groupby(\"date\").filter(lambda x: len(x) > 30)\n",
    "    sector_data = sector_data[sector_data.groupby('ticker')['date'].transform('nunique') == sector_data['date'].nunique()]\n",
    "    sector_data['nextPeriodRelativeToSectoralIndexReturn'] =  sector_data.groupby(\"date\")[\"nextPeriodRelativeToSectoralIndexReturn\"].rank(\"dense\", ascending=True).astype(int)\n",
    "    sector_data.rename(columns={'nextPeriodRelativeToSectoralIndexReturn': 'nextPeriodRank'}, inplace=True)\n",
    "    sector_data['relativeToSectoralIndexReturn'] = sector_data.groupby('date')['relativeToSectoralIndexReturn'].rank('dense', ascending=True).astype(int)\n",
    "    sector_data.rename(columns={'relativeToSectoralIndexReturn':'rank'}, inplace=True)\n",
    "    data_by_sector[sector] = sector_data\n",
    "energy_data = data_by_sector['Energy']\n",
    "\n",
    "energy_data['nextPeriodRank'] = energy_data['nextPeriodRank'] / energy_data['nextPeriodRank'].max()\n",
    "energy_data['rank'] = energy_data['rank'] / energy_data['rank'].max()\n",
    "energy_data : pd.DataFrame = energy_data\n",
    "energy_data['qid'] = energy_data['date'].astype('int64')"
   ]
  },
  {
   "cell_type": "code",
   "execution_count": 4,
   "metadata": {},
   "outputs": [],
   "source": [
    "time_config = {'train': '2000-01-01', 'valid': '2014-01-01', 'test': '2018-01-01'}\n",
    "train_energy_data = energy_data[\n",
    "    (energy_data['date'] > time_config['train']) & (energy_data['date'] <= time_config['valid'])]\n",
    "test_energy_data = energy_data[\n",
    "    (energy_data['date'] > time_config['valid']) & (energy_data['date'] <= time_config['test'])]\n",
    "\n",
    "y_train = train_energy_data[['nextPeriodRank']]\n",
    "X_train = train_energy_data[train_energy_data.drop(columns=['ticker', 'sector',\n",
    "                                                            'closePrice',\n",
    "                                                            'sectoralIndex', 'nextPeriodRank', 'date', 'qid']).columns]\n",
    "queries_train = train_energy_data[['qid']]\n",
    "\n",
    "y_test = test_energy_data[['nextPeriodRank']]\n",
    "X_test = test_energy_data[test_energy_data.drop(columns=['ticker', 'sector',\n",
    "                                                         'closePrice',\n",
    "                                                         'sectoralIndex', 'nextPeriodRank', 'date', 'qid']).columns]\n",
    "queries_test = test_energy_data[['qid']]"
   ]
  },
  {
   "cell_type": "code",
   "execution_count": 5,
   "metadata": {},
   "outputs": [],
   "source": [
    "train = Pool(\n",
    "    data=X_train,\n",
    "    label=y_train,\n",
    "    group_id=queries_train\n",
    ")\n",
    "\n",
    "test = Pool(\n",
    "    data=X_test,\n",
    "    label=y_test,\n",
    "    group_id=queries_test\n",
    ")\n",
    "default_parameters = {\n",
    "    'iterations': 100,\n",
    "    'custom_metric': ['NDCG', 'PFound', 'AverageGain:top=10'],\n",
    "    'verbose': False,\n",
    "    'random_seed': 0\n",
    "}\n",
    "\n",
    "parameters = {}\n",
    "def fit_model(loss_function, additional_params=None, train_pool=train, test_pool=test):\n",
    "    parameters = deepcopy(default_parameters)\n",
    "    parameters['loss_function'] = loss_function\n",
    "    parameters['train_dir'] = loss_function\n",
    "\n",
    "    if additional_params is not None:\n",
    "        parameters.update(additional_params)\n",
    "\n",
    "    model = CatBoostRanker(**parameters)\n",
    "    model.fit(train_pool, eval_set=test_pool, plot=True)\n",
    "\n",
    "    return model"
   ]
  },
  {
   "cell_type": "markdown",
   "metadata": {},
   "source": [
    "# Try different models"
   ]
  },
  {
   "cell_type": "code",
   "execution_count": 6,
   "metadata": {},
   "outputs": [
    {
     "data": {
      "application/vnd.jupyter.widget-view+json": {
       "model_id": "8a1a49059d21453a94228b8288914366",
       "version_major": 2,
       "version_minor": 0
      },
      "text/plain": [
       "MetricVisualizer(layout=Layout(align_self='stretch', height='500px'))"
      ]
     },
     "metadata": {},
     "output_type": "display_data"
    },
    {
     "data": {
      "text/plain": [
       "{'learn': {'MAP:top=10': 0.698423772609819,\n",
       "  'RecallAt:top=10': 0.344149278426326,\n",
       "  'PrecisionAt:top=10': 0.7906976744186046},\n",
       " 'validation': {'NDCG:type=Base': 0.853528658765964,\n",
       "  'PFound': 0.9270071650767306,\n",
       "  'MAP:top=10': 0.36848462301587304,\n",
       "  'RecallAt:top=10': 0.2391304347826087,\n",
       "  'PrecisionAt:top=10': 0.55}}"
      ]
     },
     "execution_count": 6,
     "metadata": {},
     "output_type": "execute_result"
    }
   ],
   "source": [
    "model_str = fit_model('StochasticRank:metric=PFound', {'custom_metric': ['NDCG', 'PrecisionAt:top=10', 'RecallAt:top=10', 'MAP:top=10']})\n",
    "model_str.get_best_score()"
   ]
  },
  {
   "cell_type": "code",
   "execution_count": null,
   "metadata": {},
   "outputs": [],
   "source": []
  }
 ],
 "metadata": {
  "kernelspec": {
   "display_name": "venv",
   "language": "python",
   "name": "venv"
  },
  "language_info": {
   "codemirror_mode": {
    "name": "ipython",
    "version": 3
   },
   "file_extension": ".py",
   "mimetype": "text/x-python",
   "name": "python",
   "nbconvert_exporter": "python",
   "pygments_lexer": "ipython3",
   "version": "3.10.9"
  }
 },
 "nbformat": 4,
 "nbformat_minor": 1
}
