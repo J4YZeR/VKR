{
 "cells": [
  {
   "cell_type": "code",
   "execution_count": 79,
   "metadata": {
    "collapsed": true
   },
   "outputs": [],
   "source": [
    "from statistics import mean\n",
    "\n",
    "import numpy as np\n",
    "import pandas as pd\n",
    "import scipy.stats\n",
    "from matplotlib import pyplot as plt\n",
    "from sklearn.compose import ColumnTransformer\n",
    "from sklearn.ensemble import RandomForestRegressor\n",
    "from sklearn.feature_selection import SelectFromModel\n",
    "from sklearn.linear_model import LinearRegression, Lasso\n",
    "from sklearn.metrics import mean_squared_error, mean_absolute_error, r2_score\n",
    "from sklearn.model_selection import train_test_split, cross_val_score, GridSearchCV\n",
    "from sklearn.pipeline import make_pipeline\n",
    "from sklearn.preprocessing import RobustScaler, PowerTransformer, FunctionTransformer, StandardScaler\n",
    "from sklearn.svm import LinearSVR, SVR\n",
    "from xgboost import XGBRegressor\n",
    "\n",
    "from utils.ml_data_provider import SectoralDataProvider"
   ]
  },
  {
   "cell_type": "code",
   "execution_count": 2,
   "outputs": [],
   "source": [
    "def drop_outliers_iqr(df, iqr_bound=(0.25, 0.75), IQR_k=7):\n",
    "    Q1 = df.quantile(iqr_bound[0])\n",
    "    Q3 = df.quantile(iqr_bound[1])\n",
    "    IQR = Q3 - Q1\n",
    "    return df[~((df < (Q1 - IQR_k * IQR)) | (df > (Q3 + IQR_k * IQR))).any(axis=1)]\n",
    "def drop_outliers_quantile(df, keep_inside_quantiles_bounds = (0.01, 0.99)):\n",
    "    q_l = df.quantile(keep_inside_quantiles_bounds[0])\n",
    "    q_u = df.quantile(keep_inside_quantiles_bounds[1])\n",
    "    print(keep_inside_quantiles_bounds)\n",
    "    return df[~((df < q_l) | (df > q_u)).any(axis=1)]\n",
    "\n",
    "def visualise_data(df: pd.DataFrame, remove_outliers=True, remove_outliers_function=drop_outliers_quantile, remove_outliers_kwargs = None):\n",
    "    df_to_visualize = df.copy()\n",
    "    if remove_outliers:\n",
    "        df_to_visualize = remove_outliers_function(df_to_visualize, **remove_outliers_kwargs)\n",
    "        print(df.index.size - df_to_visualize.index.size)\n",
    "    df_to_visualize.hist(bins=50, figsize=(20, 15))\n",
    "    fig, axes = plt.subplots(5, int(np.ceil(len(df_to_visualize.columns) / 5)), figsize=(20, 15))\n",
    "    for i,el in enumerate(list(df_to_visualize.columns.values)):\n",
    "        df_to_visualize.boxplot([el], ax=axes.flatten()[i])\n",
    "    plt.tight_layout()\n",
    "    plt.show()\n",
    "def eval(model, features, labels):\n",
    "    predictions = model.predict(features)\n",
    "    errors = abs(predictions - labels)\n",
    "    mape = 100 * np.mean(errors / labels)\n",
    "    accuracy = 100 - mape\n",
    "    print('Model Performance')\n",
    "    print('Average Error: {:0.4f} degrees.'.format(np.mean(errors)))\n",
    "    print('Accuracy = {:0.2f}%.'.format(accuracy))\n",
    "    print('MSE:', f'{mean_squared_error(labels, predictions, squared=False)}')\n",
    "    print('MAE:', f'{mean_absolute_error(labels, predictions)}')\n",
    "    print('R^2:', f'{r2_score(labels, predictions)}')"
   ],
   "metadata": {
    "collapsed": false
   }
  },
  {
   "cell_type": "code",
   "execution_count": 71,
   "outputs": [],
   "source": [
    "data_provider = SectoralDataProvider(cache_path='/Users/j4yzer/PycharmProjects/VKR/data/sectoral_ml')\n",
    "data : pd.DataFrame = data_provider.load_data()\n",
    "data = data.replace([-np.Inf, np.Inf], np.nan)\n",
    "data = data.dropna()\n",
    "# train_data, test_data = train_test_split(data, test_size=0.2, shuffle=False)\n",
    "data_by_sector = data.groupby('sector')\n",
    "split_data_by_sector = {sector: train_test_split(sector_data, test_size=0.05, shuffle=False) for sector, sector_data in data_by_sector}\n",
    "train_data_by_sector = {k: v[0] for k, v in split_data_by_sector.items()}\n",
    "test_data_by_sector = {k: v[1] for k, v in split_data_by_sector.items()}\n",
    "\n",
    "train_data_by_sector = {k: drop_outliers_iqr(v.drop(['ticker', 'sector', 'sectoralIndex', 'date'], axis=1), IQR_k=30) for k, v in train_data_by_sector.items()}\n",
    "y_train_by_sector = {k: v['nextPeriodRelativeToSectoralIndexReturn'] for k, v in train_data_by_sector.items()}\n",
    "X_train_by_sector = {k: v.drop(['nextPeriodRelativeToSectoralIndexReturn'], axis=1) for k, v in train_data_by_sector.items()}\n",
    "\n",
    "selected_features = ['absoluteReturn', 'relativeToSPReturn','relativeToSectoralIndexReturn', 'closePrice',\n",
    "'freeCashFlowPerShare', 'bookValuePerShare', 'marketCap', 'priceToSalesRatio', 'currentRatio']\n",
    "\n",
    "long_tail_columns = ['closePrice', 'bookValuePerShare', 'marketCap', 'priceToSalesRatio', 'currentRatio']\n",
    "noraml_columns = [k for k in selected_features if k not in long_tail_columns]\n",
    "\n",
    "select_features = FunctionTransformer(lambda x: x[selected_features])\n",
    "long_tail_scaler = make_pipeline(PowerTransformer())\n",
    "normal_scaler = make_pipeline(RobustScaler())\n",
    "\n",
    "prep_pipeline = make_pipeline(select_features, ColumnTransformer([('lt', long_tail_scaler, long_tail_columns), ('normal', normal_scaler, noraml_columns)]))\n",
    "\n",
    "random_forest_pipeline = make_pipeline(prep_pipeline, RandomForestRegressor(max_features=8, max_depth=5, n_estimators=300, bootstrap=True,random_state=42))\n",
    "\n",
    "models_by_sector = {k: random_forest_pipeline.fit(X_train_by_sector[k], v) for k, v in y_train_by_sector.items()}"
   ],
   "metadata": {
    "collapsed": false
   }
  },
  {
   "cell_type": "code",
   "execution_count": 13,
   "outputs": [],
   "source": [
    "# TODO\n",
    "# 1. Get periods.\n",
    "# 2. foreach Iterate through them\n",
    "#   2.1. foreach Iterate through each sector, select data for given period.\n",
    "#   2.2. Predict using model nextRelativeToSectorReturn\n",
    "#   2.3. Transform predictions to df, add ticker names. Sort and select top 5. Add top 5 to array: tops\n",
    "#   2.4. end foreach\n",
    "# 3. Calculate average nextRelativeToSPReturn value for tops array\n",
    "# 4. add them to dict: period: value\n",
    "# 5. end foreach"
   ],
   "metadata": {
    "collapsed": false
   }
  },
  {
   "cell_type": "code",
   "execution_count": 81,
   "outputs": [
    {
     "name": "stderr",
     "output_type": "stream",
     "text": [
      "INFO: Using categorical units to plot a list of strings that are all parsable as floats or dates. If these strings should be plotted as numbers, cast to the appropriate data type before plotting.\n",
      "INFO: Using categorical units to plot a list of strings that are all parsable as floats or dates. If these strings should be plotted as numbers, cast to the appropriate data type before plotting.\n"
     ]
    },
    {
     "name": "stdout",
     "output_type": "stream",
     "text": [
      "dict_values([0.024655789108832978, 0.0024605582498758065, 0.11262523100253245, 0.08877372684473492])\n",
      "mean 0.05712882630149404\n"
     ]
    },
    {
     "data": {
      "text/plain": "[<matplotlib.lines.Line2D at 0x2422fefb350>]"
     },
     "execution_count": 81,
     "metadata": {},
     "output_type": "execute_result"
    },
    {
     "data": {
      "text/plain": "<Figure size 640x480 with 1 Axes>",
      "image/png": "[encoded data removed]"
     },
     "metadata": {},
     "output_type": "display_data"
    }
   ],
   "source": [
    "test_data_by_sector_merged : pd.DataFrame = pd.concat([v for k, v in test_data_by_sector.items()])\n",
    "test_data_by_sector_merged['nextPeriodRelativeToSPReturn'] = test_data_by_sector_merged['relativeToSPReturn'].shift(-1)\n",
    "test_data_by_date = test_data_by_sector_merged.groupby('date')\n",
    "mean_returns = {}\n",
    "for date, data_for_date in test_data_by_date:\n",
    "    if data_for_date.index.size < 20:\n",
    "        continue\n",
    "    tops = []\n",
    "    mean_by_sector = {}\n",
    "    for sector, data_for_date_for_sector in data_for_date.groupby('sector'):\n",
    "        preds = pd.DataFrame(models_by_sector[sector].predict(data_for_date_for_sector), columns=['score'], index=data_for_date_for_sector.index)\n",
    "        preds.insert(loc=0, column='ticker', value=data_for_date_for_sector['ticker'])\n",
    "        preds = preds.sort_values(by='score',ascending=False)\n",
    "        score_mean = preds['score'].head(5).mean()\n",
    "        tops.extend(preds['ticker'].head(5))\n",
    "        mean_by_sector[sector] = score_mean\n",
    "    returns = data_for_date[data_for_date['ticker'].isin(tops)][['sector', 'nextPeriodRelativeToSPReturn']]\n",
    "    means : pd.DataFrame = returns.groupby('sector').mean()\n",
    "    pr = pd.DataFrame([[k, v] for k, v in mean_by_sector.items()], columns=['sector', 'predicted_mean'])\n",
    "    means = means.join(pr.set_index('sector'), on=['sector'])\n",
    "    weights = means.transform(lambda x: x / x.sum())\n",
    "    mean_returns[date] = returns['nextPeriodRelativeToSPReturn'].mean()\n",
    "pd.Series(mean_returns).plot(kind='line', style=['o'])\n",
    "print(mean_returns.values())\n",
    "print('mean', mean(mean_returns.values()))\n",
    "plt.plot(mean_returns.keys(), np.repeat(mean(mean_returns.values()),len(mean_returns.values())))\n",
    "\n"
   ],
   "metadata": {
    "collapsed": false
   }
  }
 ],
 "metadata": {
  "kernelspec": {
   "display_name": "Python 3",
   "language": "python",
   "name": "python3"
  },
  "language_info": {
   "codemirror_mode": {
    "name": "ipython",
    "version": 2
   },
   "file_extension": ".py",
   "mimetype": "text/x-python",
   "name": "python",
   "nbconvert_exporter": "python",
   "pygments_lexer": "ipython2",
   "version": "2.7.6"
  }
 },
 "nbformat": 4,
 "nbformat_minor": 0
}
